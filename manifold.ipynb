{
 "cells": [
  {
   "cell_type": "code",
   "execution_count": 24,
   "metadata": {},
   "outputs": [],
   "source": [
    "import numpy as np\n",
    "import matplotlib.pyplot as plt\n",
    "from mpl_toolkits.mplot3d import Axes3D\n",
    "\n",
    "class SphereManifold:\n",
    "    def __init__(self, dim=2):\n",
    "        self.dim = dim\n",
    "    \n",
    "    def project_to_tangent_space(self, x, v):\n",
    "        \"\"\"\n",
    "        Project a vector v onto the tangent space at point x on the sphere.\n",
    "        This is done by subtracting the component of v that is parallel to x.\n",
    "        \"\"\"\n",
    "        return v - np.dot(x, v) * x\n",
    "    \n",
    "    def retraction(self, x, eta):\n",
    "        \"\"\"\n",
    "        Retract a tangent vector eta back to the sphere.\n",
    "        This is done by moving in the direction of eta and then normalizing.\n",
    "        \"\"\"\n",
    "        y = x + eta\n",
    "        return y / np.linalg.norm(y)\n",
    "    \n",
    "    def gradient(self, f, x, eps=1e-8):\n",
    "        \"\"\"\n",
    "        Compute the Riemannian gradient of a function f at point x on the sphere.\n",
    "        The gradient is computed using central finite differences.\n",
    "        \"\"\"\n",
    "        grad = np.zeros_like(x)\n",
    "        for i in range(len(x)):\n",
    "            e_i = np.zeros_like(x)\n",
    "            e_i[i] = 1\n",
    "            grad[i] = (f(x + eps * e_i) - f(x - eps * e_i)) / (2 * eps)\n",
    "        return self.project_to_tangent_space(x, grad)\n",
    "    \n",
    "    def random_point(self):\n",
    "        \"\"\"\n",
    "        Generate a random point on the sphere.\n",
    "        \"\"\"\n",
    "        x = np.random.randn(3)\n",
    "        return x / np.linalg.norm(x)\n",
    "\n",
    "sphere = SphereManifold()\n",
    "\n",
    "x = sphere.random_point()\n",
    "\n",
    "def plot_sphere_with_point(point):\n",
    "    u = np.linspace(0, 2 * np.pi, 100)\n",
    "    v = np.linspace(0, np.pi, 100)\n",
    "    \n",
    "    x_sphere = np.outer(np.cos(u), np.sin(v))\n",
    "    y_sphere = np.outer(np.sin(u), np.sin(v))\n",
    "    z_sphere = np.outer(np.ones(np.size(u)), np.cos(v))\n",
    "    \n",
    "    fig = plt.figure(figsize=(8, 6))\n",
    "    ax = fig.add_subplot(111, projection='3d')\n",
    "    ax.plot_surface(x_sphere, y_sphere, z_sphere, color='b', alpha=0.6, rstride=5, cstride=5, linewidth=0)\n",
    "\n",
    "    ax.scatter(point[0], point[1], point[2], color='r', s=100)\n",
    "\n",
    "    ax.set_title(\"2D Sphere $S^2$ with a Random Point\")\n",
    "    ax.set_xlabel('X')\n",
    "    ax.set_ylabel('Y')\n",
    "    ax.set_zlabel('Z')\n",
    "    ax.set_box_aspect([1, 1, 1])  \n",
    "    \n",
    "    plt.show()\n",
    "\n",
    "#plot_sphere_with_point(x)\n"
   ]
  },
  {
   "cell_type": "code",
   "execution_count": 20,
   "metadata": {},
   "outputs": [
    {
     "data": {
      "text/plain": [
       "array([[ 1.11022302e-16, -1.42102144e-17],\n",
       "       [-1.42102144e-17,  0.00000000e+00]])"
      ]
     },
     "execution_count": 20,
     "metadata": {},
     "output_type": "execute_result"
    }
   ],
   "source": [
    "from scipy.linalg import qr\n",
    "def random_point(n,p):\n",
    "  A = np.random.randn(n,p)\n",
    "  Q,_ = qr(A)\n",
    "  return Q\n",
    "\n",
    "A = random_point(2,2)\n",
    "\n",
    "def check_is_stiefel(X):\n",
    "  size = X.shape[0]\n",
    "  A = X.T @ X\n",
    "  return np.allclose(A,np.eye(size),10e-3)\n",
    "\n",
    "def project_to_tangent_space(X,Z):\n",
    "  I = np.eye(X.shape[0])\n",
    "  M = X.T @ Z\n",
    "  skew = 1/2 * (M - M.T)\n",
    "  proj = (I - X@X.T)@Z - X@skew\n",
    "  return proj\n",
    "\n",
    "B = np.eye(2)\n",
    "\n",
    "C = project_to_tangent_space(A,B.T)\n",
    "\n",
    "C"
   ]
  }
 ],
 "metadata": {
  "kernelspec": {
   "display_name": "global",
   "language": "python",
   "name": "python3"
  },
  "language_info": {
   "codemirror_mode": {
    "name": "ipython",
    "version": 3
   },
   "file_extension": ".py",
   "mimetype": "text/x-python",
   "name": "python",
   "nbconvert_exporter": "python",
   "pygments_lexer": "ipython3",
   "version": "3.12.3"
  }
 },
 "nbformat": 4,
 "nbformat_minor": 2
}
